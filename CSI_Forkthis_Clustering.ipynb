{
  "nbformat": 4,
  "nbformat_minor": 0,
  "metadata": {
    "colab": {
      "provenance": [],
      "gpuType": "T4"
    },
    "kernelspec": {
      "name": "python3",
      "display_name": "Python 3"
    },
    "language_info": {
      "name": "python"
    },
    "accelerator": "GPU"
  },
  "cells": [
    {
      "cell_type": "markdown",
      "metadata": {
        "id": "view-in-github"
      },
      "source": [
        "<a href=\"https://colab.research.google.com/github/roheth286/CSI_ForkThis25_Final_Clustering/blob/master/CSI_Forkthis_Clustering.ipynb\" target=\"_parent\"><img src=\"https://colab.research.google.com/assets/colab-badge.svg\" alt=\"Open In Colab\"/></a>"
      ]
    },
    {
      "cell_type": "markdown",
      "source": [
        "#**Clustering of Sensorless Drive Diagnosis**\n",
        "\n",
        "---\n",
        "\n",
        "This dataset contains features extracted from motor current signals. The motor operates under 11 distinct conditions, reflecting combinations of intact and defective components, measured across 12 different operating setups, including variations in speed, load moments, and load forces. The current signals were recorded using a probe and oscilloscope on two phases. However, the dataset does not explicitly indicate which conditions are defective or intact. To explore the inherent structure and groupings within the data, we apply clustering algorithms. By leveraging unsupervised techniques, we aim to identify natural clusters corresponding to different motor conditions, potentially separating defective from intact components, and gain insights into how the various operating conditions influence the observed signal features.\n",
        "\n",
        "The Dataset contains of 58509 examples each having 48 features (the last column is the labels columns which tell's which class the specific example will fall into)"
      ],
      "metadata": {
        "id": "zfK6ktXz876s"
      }
    },
    {
      "cell_type": "markdown",
      "source": [
        "#**1. Loading the Dataset and Preprocessing**\n",
        "\n",
        "---"
      ],
      "metadata": {
        "id": "v4RMY3g69I48"
      }
    },
    {
      "cell_type": "markdown",
      "source": [
        "**1.1 Loading the dataset**\n",
        "\n",
        "*  Here we are importing a .txt file from our local system and converting it to a numpy ndarray."
      ],
      "metadata": {
        "id": "RIWT7gql9Jv7"
      }
    },
    {
      "cell_type": "code",
      "execution_count": 2,
      "metadata": {
        "id": "u9VJ3APM1n97",
        "colab": {
          "base_uri": "https://localhost:8080/",
          "height": 351
        },
        "outputId": "0f838c4b-a287-464c-f1a5-5366f15100c1"
      },
      "outputs": [
        {
          "output_type": "display_data",
          "data": {
            "text/plain": [
              "<IPython.core.display.HTML object>"
            ],
            "text/html": [
              "\n",
              "     <input type=\"file\" id=\"files-78001cb8-0e31-4368-8be6-b2744bd069cb\" name=\"files[]\" multiple disabled\n",
              "        style=\"border:none\" />\n",
              "     <output id=\"result-78001cb8-0e31-4368-8be6-b2744bd069cb\">\n",
              "      Upload widget is only available when the cell has been executed in the\n",
              "      current browser session. Please rerun this cell to enable.\n",
              "      </output>\n",
              "      <script>// Copyright 2017 Google LLC\n",
              "//\n",
              "// Licensed under the Apache License, Version 2.0 (the \"License\");\n",
              "// you may not use this file except in compliance with the License.\n",
              "// You may obtain a copy of the License at\n",
              "//\n",
              "//      http://www.apache.org/licenses/LICENSE-2.0\n",
              "//\n",
              "// Unless required by applicable law or agreed to in writing, software\n",
              "// distributed under the License is distributed on an \"AS IS\" BASIS,\n",
              "// WITHOUT WARRANTIES OR CONDITIONS OF ANY KIND, either express or implied.\n",
              "// See the License for the specific language governing permissions and\n",
              "// limitations under the License.\n",
              "\n",
              "/**\n",
              " * @fileoverview Helpers for google.colab Python module.\n",
              " */\n",
              "(function(scope) {\n",
              "function span(text, styleAttributes = {}) {\n",
              "  const element = document.createElement('span');\n",
              "  element.textContent = text;\n",
              "  for (const key of Object.keys(styleAttributes)) {\n",
              "    element.style[key] = styleAttributes[key];\n",
              "  }\n",
              "  return element;\n",
              "}\n",
              "\n",
              "// Max number of bytes which will be uploaded at a time.\n",
              "const MAX_PAYLOAD_SIZE = 100 * 1024;\n",
              "\n",
              "function _uploadFiles(inputId, outputId) {\n",
              "  const steps = uploadFilesStep(inputId, outputId);\n",
              "  const outputElement = document.getElementById(outputId);\n",
              "  // Cache steps on the outputElement to make it available for the next call\n",
              "  // to uploadFilesContinue from Python.\n",
              "  outputElement.steps = steps;\n",
              "\n",
              "  return _uploadFilesContinue(outputId);\n",
              "}\n",
              "\n",
              "// This is roughly an async generator (not supported in the browser yet),\n",
              "// where there are multiple asynchronous steps and the Python side is going\n",
              "// to poll for completion of each step.\n",
              "// This uses a Promise to block the python side on completion of each step,\n",
              "// then passes the result of the previous step as the input to the next step.\n",
              "function _uploadFilesContinue(outputId) {\n",
              "  const outputElement = document.getElementById(outputId);\n",
              "  const steps = outputElement.steps;\n",
              "\n",
              "  const next = steps.next(outputElement.lastPromiseValue);\n",
              "  return Promise.resolve(next.value.promise).then((value) => {\n",
              "    // Cache the last promise value to make it available to the next\n",
              "    // step of the generator.\n",
              "    outputElement.lastPromiseValue = value;\n",
              "    return next.value.response;\n",
              "  });\n",
              "}\n",
              "\n",
              "/**\n",
              " * Generator function which is called between each async step of the upload\n",
              " * process.\n",
              " * @param {string} inputId Element ID of the input file picker element.\n",
              " * @param {string} outputId Element ID of the output display.\n",
              " * @return {!Iterable<!Object>} Iterable of next steps.\n",
              " */\n",
              "function* uploadFilesStep(inputId, outputId) {\n",
              "  const inputElement = document.getElementById(inputId);\n",
              "  inputElement.disabled = false;\n",
              "\n",
              "  const outputElement = document.getElementById(outputId);\n",
              "  outputElement.innerHTML = '';\n",
              "\n",
              "  const pickedPromise = new Promise((resolve) => {\n",
              "    inputElement.addEventListener('change', (e) => {\n",
              "      resolve(e.target.files);\n",
              "    });\n",
              "  });\n",
              "\n",
              "  const cancel = document.createElement('button');\n",
              "  inputElement.parentElement.appendChild(cancel);\n",
              "  cancel.textContent = 'Cancel upload';\n",
              "  const cancelPromise = new Promise((resolve) => {\n",
              "    cancel.onclick = () => {\n",
              "      resolve(null);\n",
              "    };\n",
              "  });\n",
              "\n",
              "  // Wait for the user to pick the files.\n",
              "  const files = yield {\n",
              "    promise: Promise.race([pickedPromise, cancelPromise]),\n",
              "    response: {\n",
              "      action: 'starting',\n",
              "    }\n",
              "  };\n",
              "\n",
              "  cancel.remove();\n",
              "\n",
              "  // Disable the input element since further picks are not allowed.\n",
              "  inputElement.disabled = true;\n",
              "\n",
              "  if (!files) {\n",
              "    return {\n",
              "      response: {\n",
              "        action: 'complete',\n",
              "      }\n",
              "    };\n",
              "  }\n",
              "\n",
              "  for (const file of files) {\n",
              "    const li = document.createElement('li');\n",
              "    li.append(span(file.name, {fontWeight: 'bold'}));\n",
              "    li.append(span(\n",
              "        `(${file.type || 'n/a'}) - ${file.size} bytes, ` +\n",
              "        `last modified: ${\n",
              "            file.lastModifiedDate ? file.lastModifiedDate.toLocaleDateString() :\n",
              "                                    'n/a'} - `));\n",
              "    const percent = span('0% done');\n",
              "    li.appendChild(percent);\n",
              "\n",
              "    outputElement.appendChild(li);\n",
              "\n",
              "    const fileDataPromise = new Promise((resolve) => {\n",
              "      const reader = new FileReader();\n",
              "      reader.onload = (e) => {\n",
              "        resolve(e.target.result);\n",
              "      };\n",
              "      reader.readAsArrayBuffer(file);\n",
              "    });\n",
              "    // Wait for the data to be ready.\n",
              "    let fileData = yield {\n",
              "      promise: fileDataPromise,\n",
              "      response: {\n",
              "        action: 'continue',\n",
              "      }\n",
              "    };\n",
              "\n",
              "    // Use a chunked sending to avoid message size limits. See b/62115660.\n",
              "    let position = 0;\n",
              "    do {\n",
              "      const length = Math.min(fileData.byteLength - position, MAX_PAYLOAD_SIZE);\n",
              "      const chunk = new Uint8Array(fileData, position, length);\n",
              "      position += length;\n",
              "\n",
              "      const base64 = btoa(String.fromCharCode.apply(null, chunk));\n",
              "      yield {\n",
              "        response: {\n",
              "          action: 'append',\n",
              "          file: file.name,\n",
              "          data: base64,\n",
              "        },\n",
              "      };\n",
              "\n",
              "      let percentDone = fileData.byteLength === 0 ?\n",
              "          100 :\n",
              "          Math.round((position / fileData.byteLength) * 100);\n",
              "      percent.textContent = `${percentDone}% done`;\n",
              "\n",
              "    } while (position < fileData.byteLength);\n",
              "  }\n",
              "\n",
              "  // All done.\n",
              "  yield {\n",
              "    response: {\n",
              "      action: 'complete',\n",
              "    }\n",
              "  };\n",
              "}\n",
              "\n",
              "scope.google = scope.google || {};\n",
              "scope.google.colab = scope.google.colab || {};\n",
              "scope.google.colab._files = {\n",
              "  _uploadFiles,\n",
              "  _uploadFilesContinue,\n",
              "};\n",
              "})(self);\n",
              "</script> "
            ]
          },
          "metadata": {}
        },
        {
          "output_type": "stream",
          "name": "stdout",
          "text": [
            "Saving Sensorless_drive_diagnosis.txt to Sensorless_drive_diagnosis.txt\n",
            "Dataset Loaded Successfully\n",
            "\n",
            "[[-3.0146e-07  8.2603e-06 -1.1517e-05 ... -1.4996e+00 -1.4996e+00\n",
            "   1.0000e+00]\n",
            " [ 2.9132e-06 -5.2477e-06  3.3421e-06 ... -1.5005e+00 -1.5005e+00\n",
            "   1.0000e+00]\n",
            " [-2.9517e-06 -3.1840e-06 -1.5920e-05 ... -1.4985e+00 -1.4985e+00\n",
            "   1.0000e+00]\n",
            " ...\n",
            " [-5.8577e-06  1.8594e-05 -1.0171e-04 ... -1.4912e+00 -1.4910e+00\n",
            "   1.1000e+01]\n",
            " [-4.4411e-06  3.3969e-05 -4.4166e-04 ... -1.4932e+00 -1.4931e+00\n",
            "   1.1000e+01]\n",
            " [-8.8533e-06  5.2259e-05  7.2466e-05 ... -1.4946e+00 -1.4943e+00\n",
            "   1.1000e+01]]\n",
            "(58509, 49)\n"
          ]
        }
      ],
      "source": [
        "import numpy as np\n",
        "import io\n",
        "from google.colab import files\n",
        "\n",
        "\n",
        "##### Upload the .txt file ################\n",
        "\n",
        "\n",
        "uploaded = files.upload()\n",
        "filename = list(uploaded.keys())[0]\n",
        "data = np.loadtxt(io.BytesIO(uploaded[filename]))\n",
        "file_object=io.BytesIO(uploaded[filename])\n",
        "data=np.loadtxt(file_object)\n",
        "print(\"Dataset Loaded Successfully\\n\")\n",
        "print(data)\n",
        "print(data.shape)"
      ]
    },
    {
      "cell_type": "markdown",
      "source": [
        "**1.2 Seperating the Labels form the Dataset and Normalizing**\n",
        "\n",
        "*  Converting our Numpy array into a Pandas Dataframe\n",
        "*  Removing the labels column\n",
        "*  Normalizaing our data before clustering"
      ],
      "metadata": {
        "id": "8bekpdCT9Qcy"
      }
    },
    {
      "cell_type": "code",
      "source": [
        "import pandas as pd\n",
        "from sklearn.preprocessing import StandardScaler\n",
        "\n",
        "\n",
        "##### Converting NumpyArray to Pandas Dataframe ##############\n",
        "print(\"Number of rows and coulmns in the Dataset\")\n",
        "print(\"Columns:\",data.shape[1])\n",
        "print(\"Rows:\",data.shape[0],\"\\n\")\n",
        "df=pd.DataFrame(data)\n",
        "\n",
        "###### Seperating Labels Columns ########\n",
        "\n",
        "labels=df.iloc[:,-1]\n",
        "print(df.shape,labels.shape)\n",
        "df=df.iloc[:,:-1]\n",
        "\n",
        "########## Number of Unique Values #########\n",
        "number_of_unique_labels=labels.nunique()\n",
        "print(\"\\nNumber of Unique Labels:\",number_of_unique_labels)\n",
        "unique_lables=labels.unique()\n",
        "print(\"Unique Labels:\",unique_lables)\n",
        "labels_count=labels.value_counts()\n",
        "print(\"Labels Count:\\n\",labels_count)\n",
        "\n",
        "###### Z-Score Normailzation ############\n",
        "\n",
        "scaler=StandardScaler()\n",
        "df = pd.DataFrame(scaler.fit_transform(df))\n",
        "df.head()"
      ],
      "metadata": {
        "id": "L9PNCGS99Tgz",
        "colab": {
          "base_uri": "https://localhost:8080/",
          "height": 637
        },
        "outputId": "cd164b87-56ab-4b6f-9937-6ce5585e6f7f"
      },
      "execution_count": 3,
      "outputs": [
        {
          "output_type": "stream",
          "name": "stdout",
          "text": [
            "Number of rows and coulmns in the Dataset\n",
            "Columns: 49\n",
            "Rows: 58509 \n",
            "\n",
            "(58509, 49) (58509,)\n",
            "\n",
            "Number of Unique Labels: 11\n",
            "Unique Labels: [ 1.  2.  3.  4.  5.  6.  7.  8.  9. 10. 11.]\n",
            "Labels Count:\n",
            " 48\n",
            "1.0     5319\n",
            "2.0     5319\n",
            "3.0     5319\n",
            "4.0     5319\n",
            "5.0     5319\n",
            "6.0     5319\n",
            "7.0     5319\n",
            "8.0     5319\n",
            "9.0     5319\n",
            "10.0    5319\n",
            "11.0    5319\n",
            "Name: count, dtype: int64\n"
          ]
        },
        {
          "output_type": "execute_result",
          "data": {
            "text/plain": [
              "         0         1         2         3         4         5         6   \\\n",
              "0  0.042273  0.122776 -0.054947 -0.015927 -0.049283 -0.092664  0.817264   \n",
              "1  0.087101 -0.120376  0.008203 -0.075777  0.025220 -0.015416  0.792201   \n",
              "2  0.005315 -0.083228 -0.073660  0.001668 -0.051697  0.078074  0.849046   \n",
              "3  0.028033  0.132852 -0.073485 -0.055887 -0.036735  0.019494  0.753975   \n",
              "4  0.045523 -0.015715 -0.116099 -0.082711 -0.037897  0.060818  0.773417   \n",
              "\n",
              "         7         8         9   ...        38        39        40        41  \\\n",
              "0  0.817132  0.817376 -0.316864  ... -0.346510 -0.009406 -0.347679 -0.023450   \n",
              "1  0.792451  0.792286 -0.325242  ... -0.696215 -0.007810  0.026616 -0.320561   \n",
              "2  0.849217  0.849594 -0.269799  ... -0.377842 -0.009384 -0.362632 -0.452653   \n",
              "3  0.753811  0.754200 -0.274642  ...  2.173221 -0.008999 -0.059460 -0.306610   \n",
              "4  0.773501  0.774161 -0.293249  ... -0.485493 -0.009287 -0.223125  0.190275   \n",
              "\n",
              "         42        43        44        45        46        47  \n",
              "0  1.308985  1.311947  1.295447 -0.578124 -0.571083 -0.602998  \n",
              "1  1.144930  1.148347  1.130230 -0.862670 -0.855606 -0.886485  \n",
              "2  0.707449  0.712081  0.717189 -0.230345 -0.223334 -0.256514  \n",
              "3  1.254300  1.257414  1.240375  0.085818  0.092802  0.026973  \n",
              "4  1.391013  1.393747  1.378055  0.591678  0.598620  0.562448  \n",
              "\n",
              "[5 rows x 48 columns]"
            ],
            "text/html": [
              "\n",
              "  <div id=\"df-0013c43f-7c0f-4aee-9d09-487befea8b7a\" class=\"colab-df-container\">\n",
              "    <div>\n",
              "<style scoped>\n",
              "    .dataframe tbody tr th:only-of-type {\n",
              "        vertical-align: middle;\n",
              "    }\n",
              "\n",
              "    .dataframe tbody tr th {\n",
              "        vertical-align: top;\n",
              "    }\n",
              "\n",
              "    .dataframe thead th {\n",
              "        text-align: right;\n",
              "    }\n",
              "</style>\n",
              "<table border=\"1\" class=\"dataframe\">\n",
              "  <thead>\n",
              "    <tr style=\"text-align: right;\">\n",
              "      <th></th>\n",
              "      <th>0</th>\n",
              "      <th>1</th>\n",
              "      <th>2</th>\n",
              "      <th>3</th>\n",
              "      <th>4</th>\n",
              "      <th>5</th>\n",
              "      <th>6</th>\n",
              "      <th>7</th>\n",
              "      <th>8</th>\n",
              "      <th>9</th>\n",
              "      <th>...</th>\n",
              "      <th>38</th>\n",
              "      <th>39</th>\n",
              "      <th>40</th>\n",
              "      <th>41</th>\n",
              "      <th>42</th>\n",
              "      <th>43</th>\n",
              "      <th>44</th>\n",
              "      <th>45</th>\n",
              "      <th>46</th>\n",
              "      <th>47</th>\n",
              "    </tr>\n",
              "  </thead>\n",
              "  <tbody>\n",
              "    <tr>\n",
              "      <th>0</th>\n",
              "      <td>0.042273</td>\n",
              "      <td>0.122776</td>\n",
              "      <td>-0.054947</td>\n",
              "      <td>-0.015927</td>\n",
              "      <td>-0.049283</td>\n",
              "      <td>-0.092664</td>\n",
              "      <td>0.817264</td>\n",
              "      <td>0.817132</td>\n",
              "      <td>0.817376</td>\n",
              "      <td>-0.316864</td>\n",
              "      <td>...</td>\n",
              "      <td>-0.346510</td>\n",
              "      <td>-0.009406</td>\n",
              "      <td>-0.347679</td>\n",
              "      <td>-0.023450</td>\n",
              "      <td>1.308985</td>\n",
              "      <td>1.311947</td>\n",
              "      <td>1.295447</td>\n",
              "      <td>-0.578124</td>\n",
              "      <td>-0.571083</td>\n",
              "      <td>-0.602998</td>\n",
              "    </tr>\n",
              "    <tr>\n",
              "      <th>1</th>\n",
              "      <td>0.087101</td>\n",
              "      <td>-0.120376</td>\n",
              "      <td>0.008203</td>\n",
              "      <td>-0.075777</td>\n",
              "      <td>0.025220</td>\n",
              "      <td>-0.015416</td>\n",
              "      <td>0.792201</td>\n",
              "      <td>0.792451</td>\n",
              "      <td>0.792286</td>\n",
              "      <td>-0.325242</td>\n",
              "      <td>...</td>\n",
              "      <td>-0.696215</td>\n",
              "      <td>-0.007810</td>\n",
              "      <td>0.026616</td>\n",
              "      <td>-0.320561</td>\n",
              "      <td>1.144930</td>\n",
              "      <td>1.148347</td>\n",
              "      <td>1.130230</td>\n",
              "      <td>-0.862670</td>\n",
              "      <td>-0.855606</td>\n",
              "      <td>-0.886485</td>\n",
              "    </tr>\n",
              "    <tr>\n",
              "      <th>2</th>\n",
              "      <td>0.005315</td>\n",
              "      <td>-0.083228</td>\n",
              "      <td>-0.073660</td>\n",
              "      <td>0.001668</td>\n",
              "      <td>-0.051697</td>\n",
              "      <td>0.078074</td>\n",
              "      <td>0.849046</td>\n",
              "      <td>0.849217</td>\n",
              "      <td>0.849594</td>\n",
              "      <td>-0.269799</td>\n",
              "      <td>...</td>\n",
              "      <td>-0.377842</td>\n",
              "      <td>-0.009384</td>\n",
              "      <td>-0.362632</td>\n",
              "      <td>-0.452653</td>\n",
              "      <td>0.707449</td>\n",
              "      <td>0.712081</td>\n",
              "      <td>0.717189</td>\n",
              "      <td>-0.230345</td>\n",
              "      <td>-0.223334</td>\n",
              "      <td>-0.256514</td>\n",
              "    </tr>\n",
              "    <tr>\n",
              "      <th>3</th>\n",
              "      <td>0.028033</td>\n",
              "      <td>0.132852</td>\n",
              "      <td>-0.073485</td>\n",
              "      <td>-0.055887</td>\n",
              "      <td>-0.036735</td>\n",
              "      <td>0.019494</td>\n",
              "      <td>0.753975</td>\n",
              "      <td>0.753811</td>\n",
              "      <td>0.754200</td>\n",
              "      <td>-0.274642</td>\n",
              "      <td>...</td>\n",
              "      <td>2.173221</td>\n",
              "      <td>-0.008999</td>\n",
              "      <td>-0.059460</td>\n",
              "      <td>-0.306610</td>\n",
              "      <td>1.254300</td>\n",
              "      <td>1.257414</td>\n",
              "      <td>1.240375</td>\n",
              "      <td>0.085818</td>\n",
              "      <td>0.092802</td>\n",
              "      <td>0.026973</td>\n",
              "    </tr>\n",
              "    <tr>\n",
              "      <th>4</th>\n",
              "      <td>0.045523</td>\n",
              "      <td>-0.015715</td>\n",
              "      <td>-0.116099</td>\n",
              "      <td>-0.082711</td>\n",
              "      <td>-0.037897</td>\n",
              "      <td>0.060818</td>\n",
              "      <td>0.773417</td>\n",
              "      <td>0.773501</td>\n",
              "      <td>0.774161</td>\n",
              "      <td>-0.293249</td>\n",
              "      <td>...</td>\n",
              "      <td>-0.485493</td>\n",
              "      <td>-0.009287</td>\n",
              "      <td>-0.223125</td>\n",
              "      <td>0.190275</td>\n",
              "      <td>1.391013</td>\n",
              "      <td>1.393747</td>\n",
              "      <td>1.378055</td>\n",
              "      <td>0.591678</td>\n",
              "      <td>0.598620</td>\n",
              "      <td>0.562448</td>\n",
              "    </tr>\n",
              "  </tbody>\n",
              "</table>\n",
              "<p>5 rows × 48 columns</p>\n",
              "</div>\n",
              "    <div class=\"colab-df-buttons\">\n",
              "\n",
              "  <div class=\"colab-df-container\">\n",
              "    <button class=\"colab-df-convert\" onclick=\"convertToInteractive('df-0013c43f-7c0f-4aee-9d09-487befea8b7a')\"\n",
              "            title=\"Convert this dataframe to an interactive table.\"\n",
              "            style=\"display:none;\">\n",
              "\n",
              "  <svg xmlns=\"http://www.w3.org/2000/svg\" height=\"24px\" viewBox=\"0 -960 960 960\">\n",
              "    <path d=\"M120-120v-720h720v720H120Zm60-500h600v-160H180v160Zm220 220h160v-160H400v160Zm0 220h160v-160H400v160ZM180-400h160v-160H180v160Zm440 0h160v-160H620v160ZM180-180h160v-160H180v160Zm440 0h160v-160H620v160Z\"/>\n",
              "  </svg>\n",
              "    </button>\n",
              "\n",
              "  <style>\n",
              "    .colab-df-container {\n",
              "      display:flex;\n",
              "      gap: 12px;\n",
              "    }\n",
              "\n",
              "    .colab-df-convert {\n",
              "      background-color: #E8F0FE;\n",
              "      border: none;\n",
              "      border-radius: 50%;\n",
              "      cursor: pointer;\n",
              "      display: none;\n",
              "      fill: #1967D2;\n",
              "      height: 32px;\n",
              "      padding: 0 0 0 0;\n",
              "      width: 32px;\n",
              "    }\n",
              "\n",
              "    .colab-df-convert:hover {\n",
              "      background-color: #E2EBFA;\n",
              "      box-shadow: 0px 1px 2px rgba(60, 64, 67, 0.3), 0px 1px 3px 1px rgba(60, 64, 67, 0.15);\n",
              "      fill: #174EA6;\n",
              "    }\n",
              "\n",
              "    .colab-df-buttons div {\n",
              "      margin-bottom: 4px;\n",
              "    }\n",
              "\n",
              "    [theme=dark] .colab-df-convert {\n",
              "      background-color: #3B4455;\n",
              "      fill: #D2E3FC;\n",
              "    }\n",
              "\n",
              "    [theme=dark] .colab-df-convert:hover {\n",
              "      background-color: #434B5C;\n",
              "      box-shadow: 0px 1px 3px 1px rgba(0, 0, 0, 0.15);\n",
              "      filter: drop-shadow(0px 1px 2px rgba(0, 0, 0, 0.3));\n",
              "      fill: #FFFFFF;\n",
              "    }\n",
              "  </style>\n",
              "\n",
              "    <script>\n",
              "      const buttonEl =\n",
              "        document.querySelector('#df-0013c43f-7c0f-4aee-9d09-487befea8b7a button.colab-df-convert');\n",
              "      buttonEl.style.display =\n",
              "        google.colab.kernel.accessAllowed ? 'block' : 'none';\n",
              "\n",
              "      async function convertToInteractive(key) {\n",
              "        const element = document.querySelector('#df-0013c43f-7c0f-4aee-9d09-487befea8b7a');\n",
              "        const dataTable =\n",
              "          await google.colab.kernel.invokeFunction('convertToInteractive',\n",
              "                                                    [key], {});\n",
              "        if (!dataTable) return;\n",
              "\n",
              "        const docLinkHtml = 'Like what you see? Visit the ' +\n",
              "          '<a target=\"_blank\" href=https://colab.research.google.com/notebooks/data_table.ipynb>data table notebook</a>'\n",
              "          + ' to learn more about interactive tables.';\n",
              "        element.innerHTML = '';\n",
              "        dataTable['output_type'] = 'display_data';\n",
              "        await google.colab.output.renderOutput(dataTable, element);\n",
              "        const docLink = document.createElement('div');\n",
              "        docLink.innerHTML = docLinkHtml;\n",
              "        element.appendChild(docLink);\n",
              "      }\n",
              "    </script>\n",
              "  </div>\n",
              "\n",
              "\n",
              "    <div id=\"df-3ec3e96f-ab23-4cdb-b884-5c84c11ef1ea\">\n",
              "      <button class=\"colab-df-quickchart\" onclick=\"quickchart('df-3ec3e96f-ab23-4cdb-b884-5c84c11ef1ea')\"\n",
              "                title=\"Suggest charts\"\n",
              "                style=\"display:none;\">\n",
              "\n",
              "<svg xmlns=\"http://www.w3.org/2000/svg\" height=\"24px\"viewBox=\"0 0 24 24\"\n",
              "     width=\"24px\">\n",
              "    <g>\n",
              "        <path d=\"M19 3H5c-1.1 0-2 .9-2 2v14c0 1.1.9 2 2 2h14c1.1 0 2-.9 2-2V5c0-1.1-.9-2-2-2zM9 17H7v-7h2v7zm4 0h-2V7h2v10zm4 0h-2v-4h2v4z\"/>\n",
              "    </g>\n",
              "</svg>\n",
              "      </button>\n",
              "\n",
              "<style>\n",
              "  .colab-df-quickchart {\n",
              "      --bg-color: #E8F0FE;\n",
              "      --fill-color: #1967D2;\n",
              "      --hover-bg-color: #E2EBFA;\n",
              "      --hover-fill-color: #174EA6;\n",
              "      --disabled-fill-color: #AAA;\n",
              "      --disabled-bg-color: #DDD;\n",
              "  }\n",
              "\n",
              "  [theme=dark] .colab-df-quickchart {\n",
              "      --bg-color: #3B4455;\n",
              "      --fill-color: #D2E3FC;\n",
              "      --hover-bg-color: #434B5C;\n",
              "      --hover-fill-color: #FFFFFF;\n",
              "      --disabled-bg-color: #3B4455;\n",
              "      --disabled-fill-color: #666;\n",
              "  }\n",
              "\n",
              "  .colab-df-quickchart {\n",
              "    background-color: var(--bg-color);\n",
              "    border: none;\n",
              "    border-radius: 50%;\n",
              "    cursor: pointer;\n",
              "    display: none;\n",
              "    fill: var(--fill-color);\n",
              "    height: 32px;\n",
              "    padding: 0;\n",
              "    width: 32px;\n",
              "  }\n",
              "\n",
              "  .colab-df-quickchart:hover {\n",
              "    background-color: var(--hover-bg-color);\n",
              "    box-shadow: 0 1px 2px rgba(60, 64, 67, 0.3), 0 1px 3px 1px rgba(60, 64, 67, 0.15);\n",
              "    fill: var(--button-hover-fill-color);\n",
              "  }\n",
              "\n",
              "  .colab-df-quickchart-complete:disabled,\n",
              "  .colab-df-quickchart-complete:disabled:hover {\n",
              "    background-color: var(--disabled-bg-color);\n",
              "    fill: var(--disabled-fill-color);\n",
              "    box-shadow: none;\n",
              "  }\n",
              "\n",
              "  .colab-df-spinner {\n",
              "    border: 2px solid var(--fill-color);\n",
              "    border-color: transparent;\n",
              "    border-bottom-color: var(--fill-color);\n",
              "    animation:\n",
              "      spin 1s steps(1) infinite;\n",
              "  }\n",
              "\n",
              "  @keyframes spin {\n",
              "    0% {\n",
              "      border-color: transparent;\n",
              "      border-bottom-color: var(--fill-color);\n",
              "      border-left-color: var(--fill-color);\n",
              "    }\n",
              "    20% {\n",
              "      border-color: transparent;\n",
              "      border-left-color: var(--fill-color);\n",
              "      border-top-color: var(--fill-color);\n",
              "    }\n",
              "    30% {\n",
              "      border-color: transparent;\n",
              "      border-left-color: var(--fill-color);\n",
              "      border-top-color: var(--fill-color);\n",
              "      border-right-color: var(--fill-color);\n",
              "    }\n",
              "    40% {\n",
              "      border-color: transparent;\n",
              "      border-right-color: var(--fill-color);\n",
              "      border-top-color: var(--fill-color);\n",
              "    }\n",
              "    60% {\n",
              "      border-color: transparent;\n",
              "      border-right-color: var(--fill-color);\n",
              "    }\n",
              "    80% {\n",
              "      border-color: transparent;\n",
              "      border-right-color: var(--fill-color);\n",
              "      border-bottom-color: var(--fill-color);\n",
              "    }\n",
              "    90% {\n",
              "      border-color: transparent;\n",
              "      border-bottom-color: var(--fill-color);\n",
              "    }\n",
              "  }\n",
              "</style>\n",
              "\n",
              "      <script>\n",
              "        async function quickchart(key) {\n",
              "          const quickchartButtonEl =\n",
              "            document.querySelector('#' + key + ' button');\n",
              "          quickchartButtonEl.disabled = true;  // To prevent multiple clicks.\n",
              "          quickchartButtonEl.classList.add('colab-df-spinner');\n",
              "          try {\n",
              "            const charts = await google.colab.kernel.invokeFunction(\n",
              "                'suggestCharts', [key], {});\n",
              "          } catch (error) {\n",
              "            console.error('Error during call to suggestCharts:', error);\n",
              "          }\n",
              "          quickchartButtonEl.classList.remove('colab-df-spinner');\n",
              "          quickchartButtonEl.classList.add('colab-df-quickchart-complete');\n",
              "        }\n",
              "        (() => {\n",
              "          let quickchartButtonEl =\n",
              "            document.querySelector('#df-3ec3e96f-ab23-4cdb-b884-5c84c11ef1ea button');\n",
              "          quickchartButtonEl.style.display =\n",
              "            google.colab.kernel.accessAllowed ? 'block' : 'none';\n",
              "        })();\n",
              "      </script>\n",
              "    </div>\n",
              "\n",
              "    </div>\n",
              "  </div>\n"
            ],
            "application/vnd.google.colaboratory.intrinsic+json": {
              "type": "dataframe",
              "variable_name": "df"
            }
          },
          "metadata": {},
          "execution_count": 3
        }
      ]
    },
    {
      "cell_type": "markdown",
      "source": [
        "#**2. Clustering Techniques**"
      ],
      "metadata": {
        "id": "Ia5sgDeS9X5L"
      }
    },
    {
      "cell_type": "markdown",
      "source": [
        "**2.1 WCCS VS. K-Values**\n",
        "\n",
        "The WCSS (Within-Cluster Sum of Squares) vs. K-values graph helps determine the optimal number of clusters for KMeans. WCSS measures the total variance within each cluster, so lower values indicate tighter clusters. By plotting WCSS for different numbers of clusters (K), we look for an “elbow” point where adding more clusters yields diminishing returns in reducing variance. This point suggests a suitable number of clusters that balances compactness and simplicity, guiding our choice of K before performing the final clustering."
      ],
      "metadata": {
        "id": "nJtPHkjN9cg8"
      }
    },
    {
      "cell_type": "code",
      "source": [
        "from sklearn.cluster import KMeans\n",
        "import matplotlib.pyplot as plt\n",
        "\n",
        "############ Finding Loss for different number of clusters ####################\n",
        "inertia = []\n",
        "for k in range(1,15):\n",
        "    kmeans = KMeans(n_clusters=k, random_state=42, n_init=5)\n",
        "    kmeans.fit(df)\n",
        "    inertia.append(kmeans.inertia_)\n",
        "\n",
        "############### Plot the elbow curve #################################\n",
        "values = range(1,15)\n",
        "plt.figure(figsize=(8, 5))\n",
        "plt.plot(values,inertia, marker='o')\n",
        "plt.xticks(values)\n",
        "plt.xlabel('Number of clusters (k)')\n",
        "plt.ylabel('Inertia (Within-cluster Sum of Squares)')\n",
        "plt.title('Elbow Method For Optimal k')\n",
        "plt.grid(True)\n",
        "plt.show()\n"
      ],
      "metadata": {
        "id": "G2JFNFVf9fFr",
        "colab": {
          "base_uri": "https://localhost:8080/",
          "height": 487
        },
        "outputId": "2d2f75f3-e906-4732-a3ea-5ca98bac9635"
      },
      "execution_count": 21,
      "outputs": [
        {
          "output_type": "display_data",
          "data": {
            "text/plain": [
              "<Figure size 800x500 with 1 Axes>"
            ],
            "image/png": "[encoded data removed]"
          },
          "metadata": {}
        }
      ]
    },
    {
      "cell_type": "markdown",
      "source": [
        "**2.2 Silhouette Score vs Number of Clusters**\n",
        "\n",
        "The Silhouette Score measures how well each data point fits within its assigned cluster compared to other clusters. It combines cohesion (how close points are within the same cluster) and separation (how far they are from points in other clusters). Scores range from -1 to 1, with higher values indicating better-defined, more distinct clusters. By calculating the silhouette score for various numbers of clusters, we can assess which K produces the most coherent clustering. The resulting Silhouette Score vs. Number of Clusters graph visualizes this relationship, helping identify the number of clusters that maximizes cluster quality and separation."
      ],
      "metadata": {
        "id": "xIX86btw9jjT"
      }
    },
    {
      "cell_type": "code",
      "source": [
        "from sklearn.cluster import KMeans\n",
        "from sklearn.metrics import silhouette_score\n",
        "import matplotlib.pyplot as plt\n",
        "\n",
        "cluster_numbers = [2,3,5,8,10,25,100]\n",
        "sil_scores = []\n",
        "\n",
        "for k in cluster_numbers:\n",
        "    kmeans = KMeans(n_clusters=k, random_state=42, n_init=10)\n",
        "    cluster_labels = kmeans.fit_predict(df)\n",
        "    score = silhouette_score(df, cluster_labels)\n",
        "    sil_scores.append(score)\n",
        "    print(\"k: \", k,\" Silhouette Score: \",score)\n",
        "\n",
        "plt.figure(figsize=(8,5))\n",
        "plt.plot(cluster_numbers, sil_scores, marker='o')\n",
        "plt.title(\"Silhouette Score vs Number of Clusters (KMeans)\")\n",
        "plt.xlabel(\"Number of Clusters (k)\")\n",
        "plt.ylabel(\"Silhouette Score\")\n",
        "plt.grid(True)\n",
        "plt.show()\n"
      ],
      "metadata": {
        "id": "4JzGoDKI9oP7",
        "colab": {
          "base_uri": "https://localhost:8080/",
          "height": 608
        },
        "outputId": "8f9cb715-5281-4c4d-8a47-5410ac315e55"
      },
      "execution_count": 15,
      "outputs": [
        {
          "output_type": "stream",
          "name": "stdout",
          "text": [
            "k:  2  Silhouette Score:  0.15748556797206406\n",
            "k:  3  Silhouette Score:  0.17411737250852474\n",
            "k:  5  Silhouette Score:  0.14133871356616146\n",
            "k:  8  Silhouette Score:  0.15356858698373463\n",
            "k:  10  Silhouette Score:  0.16035247628249255\n",
            "k:  25  Silhouette Score:  0.143153294726899\n",
            "k:  100  Silhouette Score:  0.11026861123357097\n"
          ]
        },
        {
          "output_type": "display_data",
          "data": {
            "text/plain": [
              "<Figure size 800x500 with 1 Axes>"
            ],
            "image/png": "[encoded data removed]"
          },
          "metadata": {}
        }
      ]
    },
    {
      "cell_type": "markdown",
      "source": [
        "**2.3 Chossing the correct number of clusters**\n",
        "\n",
        "The Within-Cluster Sum of Squares (WCSS) measures the total variance within each cluster, essentially quantifying how tightly the data points are grouped. Lower WCSS values indicate more compact clusters. By plotting WCSS against different numbers of clusters, we look for the “elbow point”—the K value after which adding more clusters does not significantly reduce WCSS. This point suggests a balance between minimizing intra-cluster variance and avoiding an excessive number of clusters. The WCSS vs. Number of Clusters graph thus provides a visual way to estimate the optimal cluster count, complementing the silhouette analysis, and helps in making a data-driven decision on the appropriate number of clusters for meaningful separation.\n",
        "\n",
        "The Silhouette Score measures how well each data point fits within its assigned cluster compared to other clusters. It combines cohesion (how close points are within the same cluster) and separation (how far they are from points in other clusters). Scores range from -1 to 1, with higher values indicating better-defined, more distinct clusters. By calculating the silhouette score for various numbers of clusters, we can assess which K produces the most coherent clustering. The resulting Silhouette Score vs. Number of Clusters graph visualizes this relationship, helping identify the number of clusters that maximizes cluster quality and separation.\n",
        "\n"
      ],
      "metadata": {
        "id": "IEBHZezQ9pKV"
      }
    },
    {
      "cell_type": "code",
      "source": [
        "best_k=None"
      ],
      "metadata": {
        "id": "sojJcr_w9sDb"
      },
      "execution_count": null,
      "outputs": []
    },
    {
      "cell_type": "markdown",
      "source": [
        "**2.4 Principal Component Anaylsis**\n",
        "\n",
        "Clustering directly on the raw dataset with all its features tends to produce poor silhouette scores because the high-dimensional space dilutes the natural groupings, making it difficult for clustering algorithms to distinguish distinct clusters. To address this, we apply Principal Component Analysis (PCA), a dimensionality reduction technique that transforms the original features into a smaller set of uncorrelated components while retaining the maximum variance. By projecting the data onto the first few principal components, we reduce noise and redundancy, allowing clusters to become more separable. Although the silhouette scores improve with PCA, they still highlight the inherent challenge of separating classes purely based on the extracted features, emphasizing the need for careful selection of components and cluster counts to uncover meaningful structures."
      ],
      "metadata": {
        "id": "cOzp6YoN9t90"
      }
    },
    {
      "cell_type": "code",
      "source": [
        "from sklearn.decomposition import PCA\n",
        "\n",
        "pca = PCA(n_components=2)\n",
        "pca_result_2 = pca.fit_transform(df)\n",
        "df_pca_2 = pd.DataFrame(pca_result_2, columns=['PC1', 'PC2'])\n",
        "\n",
        "pca = PCA(n_components=3)\n",
        "pca_result_3 = pca.fit_transform(df)\n",
        "df_pca_3 = pd.DataFrame(pca_result_3, columns=['PC1', 'PC2', 'PC3'])\n",
        "\n",
        "pca = PCA(n_components=5)\n",
        "pca_result_5 = pca.fit_transform(df)\n",
        "df_pca_5 = pd.DataFrame(pca_result_5, columns=['PC1', 'PC2', 'PC3', 'PC4', 'PC5'])\n",
        "\n",
        "pca = PCA(n_components=8)\n",
        "pca_result_8 = pca.fit_transform(df)\n",
        "df_pca_8 = pd.DataFrame(pca_result_8, columns=['PC1', 'PC2', 'PC3','PC4','PC5','PC6','PC7','PC8'])\n",
        "\n",
        "pca = PCA(n_components=10)\n",
        "pca_result_10 = pca.fit_transform(df)\n",
        "df_pca_10 = pd.DataFrame(pca_result_10, columns=['PC1', 'PC2', 'PC3', 'PC4', 'PC5', 'PC6', 'PC7','PC8','PC9','PC10'])\n",
        "\n",
        "pca_dict = {\n",
        "    2: df_pca_2,\n",
        "    3: df_pca_3,\n",
        "    5: df_pca_5,\n",
        "    8: df_pca_8,\n",
        "    10: df_pca_10\n",
        "}"
      ],
      "metadata": {
        "id": "inpyikYo9yLc"
      },
      "execution_count": 22,
      "outputs": []
    },
    {
      "cell_type": "markdown",
      "source": [
        "**2.5 Choosing the Correct Combination of reduced dimensions and number of clusters**\n",
        "\n",
        "In this step, we aim to identify the optimal number of dimensions that allow clear and well-separated clusters. We achieve this by applying PCA with different numbers of components (2, 3, 5, 8, and 10) to reduce the dataset’s dimensionality. For each reduced dataset, we perform KMeans clustering with a fixed number of clusters and calculate the silhouette score, which measures how well-separated the clusters are. By comparing silhouette scores across different PCA dimensions, we can determine which number of components best captures the underlying structure of the data, helping us choose a dimensionality that produces the most coherent clustering."
      ],
      "metadata": {
        "id": "MibdSBcU922b"
      }
    },
    {
      "cell_type": "code",
      "source": [
        "from sklearn.cluster import KMeans\n",
        "from sklearn.metrics import silhouette_score\n",
        "\n",
        "best_sil = 1\n",
        "best_pca = 0\n",
        "\n",
        "for n_components, X_pca_df in pca_dict.items():\n",
        "    X_pca = X_pca_df.values\n",
        "    kmeans = KMeans(n_clusters=best_k, n_init=10, random_state=42)\n",
        "    labels = kmeans.fit_predict(X_pca)\n",
        "    sil_score = silhouette_score(X_pca, labels)\n",
        "\n",
        "    print(\"PCA components:\", n_components, \"silhouette:\", sil_score)\n",
        "\n",
        "    if sil_score < best_sil:\n",
        "        best_sil = sil_score\n",
        "        best_pca = n_components\n",
        "\n",
        "print(\"done\")\n"
      ],
      "metadata": {
        "id": "qCH4FqcC93dT"
      },
      "execution_count": null,
      "outputs": []
    },
    {
      "cell_type": "markdown",
      "source": [
        "**2.6 K-means Clustering with optimized combination**\n",
        "\n",
        "K-means clustering is a straightforward and widely used technique to group data points into distinct clusters based on their similarity. It works by first choosing a set number of clusters, then assigning each data point to the nearest cluster center (centroid). After all points are assigned, the centroids are recalculated as the average of points in that cluster, and this process repeats iteratively until the assignments stabilize. The goal is to minimize the variance within each cluster, so points within a cluster are as similar as possible while being distinct from points in other clusters. It’s simple, fast, and effective for finding patterns in datasets where the number of clusters is roughly known in advance."
      ],
      "metadata": {
        "id": "4wZ64eUI96XT"
      }
    },
    {
      "cell_type": "code",
      "source": [
        "from sklearn.cluster import KMeans\n",
        "\n",
        "kmeans = KMeans(n_clusters=2, n_init=10, random_state=42)\n",
        "kmeans_labels = kmeans.fit_predict()\n",
        "print(\"KMeans clustering done.\")"
      ],
      "metadata": {
        "id": "QKgNWHbd988E"
      },
      "execution_count": null,
      "outputs": []
    },
    {
      "cell_type": "markdown",
      "source": [
        "**2.7 Gaussian Mixture Modelling with optimized combination**\n",
        "\n",
        "Gaussian Mixture Model (GMM) clustering is a probabilistic approach to grouping data points. Unlike K-means, which assigns each point strictly to one cluster, GMM assumes that data is generated from a mixture of several Gaussian distributions and assigns each point a probability of belonging to each cluster. The model iteratively estimates the parameters (mean, variance, and weight) of these Gaussians to maximize the likelihood of the observed data. This allows GMM to capture clusters that are not strictly spherical or equally sized, making it more flexible for datasets with overlapping or elliptical clusters. In simple terms, GMM tries to “fit” multiple bell-shaped distributions to the data, letting us understand cluster structure in a probabilistic way.\n",
        "Spectral Clustering is a graph-based clustering method that treats the data points as nodes in a graph. Instead of directly partitioning points in the original space, it constructs a similarity graph where edges represent how close or connected points are. Then it computes the eigenvectors of the graph’s Laplacian matrix and projects the data into this lower-dimensional spectral space. Finally, a standard clustering algorithm (like KMeans) is applied in this space to assign cluster labels. This method is especially powerful for detecting clusters that are non-convex or not well-separated in the original feature space."
      ],
      "metadata": {
        "id": "enmTTwZn-A1z"
      }
    },
    {
      "cell_type": "code",
      "source": [
        "from sklearn.mixture import GaussianMixture\n",
        "from sklearn.cluster import SpectralClustering\n",
        "\n",
        "gmm_labels = ## cluster labels for gmm\n",
        "spectral_labels = ## cluster labels for spectral\n"
      ],
      "metadata": {
        "id": "55nHctfn-DUt"
      },
      "execution_count": null,
      "outputs": []
    },
    {
      "cell_type": "markdown",
      "source": [
        "#**3. Visuialization**"
      ],
      "metadata": {
        "id": "xl_ZYiis-GGr"
      }
    },
    {
      "cell_type": "markdown",
      "source": [
        "**3.1 PCA scatter**\n",
        "\n",
        "These two PCA scatter plots let us visually compare the clustering results with the actual labels. The first plot shows the data points colored according to the KMeans cluster assignments, so we can see how the algorithm has grouped the points in the reduced PCA space. The second plot shows the true labels for each point, allowing us to visually assess how well the clusters align with the actual classes. By comparing the two, we can quickly spot which clusters correspond to which labels, see overlaps, and get a sense of how separable the classes are in the PCA-reduced feature space."
      ],
      "metadata": {
        "id": "-2nm9HZa-I27"
      }
    },
    {
      "cell_type": "code",
      "source": [
        "import matplotlib.pyplot as plt\n",
        "import numpy as np\n",
        "\n",
        "df_plot=df\n",
        "labels_int = labels.astype(int)\n",
        "############################# Plot coloured by Clusters ###################################################\n",
        "plt.figure(figsize=(8,6))\n",
        "plt.scatter(df_plot.iloc[:,0], df_plot.lioc[:,1], c=labels, cmap='tab20', s=10)\n",
        "plt.title(\"PCA 2D Scatter - Colored by KMeans Clusters\")\n",
        "plt.xlabel('PC1')\n",
        "plt.ylabel('PC2')\n",
        "plt.colorbar(label='Cluster')\n",
        "plt.show()\n",
        "\n",
        "\n",
        "\n",
        "labels_int = labels.astype(int)\n",
        "############################# Plot coloured by Clusters ###################################################\n",
        "plt.figure(figsize=(8,6))\n",
        "plt.scatter(df_plot.iloc[:,1], df_plot.iloc[:,0], c=kmeans_labels, cmap='tab20', s=10)\n",
        "plt.title(\"PCA 2D Scatter - Colored by KMeans Clusters\")\n",
        "plt.xlabel('PC1')\n",
        "plt.ylabel('PC2')\n",
        "plt.colorbar(label='Cluster')\n",
        "plt.show()"
      ],
      "metadata": {
        "id": "GiqXW6QB-LyE"
      },
      "execution_count": null,
      "outputs": []
    },
    {
      "cell_type": "markdown",
      "source": [
        "**3.2 UMAP 2D scatter:**\n",
        "\n",
        "\n",
        "UMAP (Uniform Manifold Approximation and Projection) is a nonlinear dimensionality reduction technique that preserves both local and global structure of the data, often producing more meaningful clusters in lower dimensions compared to PCA. In these two scatter plots, we use UMAP to reduce the dataset to two dimensions. The first plot colors the points according to KMeans cluster assignments, showing how the algorithm has grouped the data in the UMAP-reduced space. The second plot colors the same points based on their true labels, letting us visually assess how well the clusters align with the actual classes. Comparing these plots helps us see if the clustering algorithm is capturing the underlying class structure effectively and where there might be overlaps or misclassifications."
      ],
      "metadata": {
        "id": "giv0DsFy-OEi"
      }
    },
    {
      "cell_type": "code",
      "source": [
        "import umap\n",
        "\n",
        "umap_model = umap.UMAP(n_components=7, random_state=42)\n",
        "umap_result = umap_model.fit_transform(df_plot)\n",
        "\n",
        "################################ UMAP colored by KMeans clusters #############################################33\n",
        "plt.figure(figsize=(8,6))\n",
        "plt.scatter(umap_result[:,0], umap_result[:,1], c=kmeans_labels, cmap='tab20', s=10)\n",
        "plt.title(\"UMAP Scatter - Colored by KMeans Clusters\")\n",
        "plt.xlabel('UMAP 1')\n",
        "plt.ylabel('UMAP 2')\n",
        "plt.colorbar(label='Cluster')\n",
        "plt.show()\n",
        "\n",
        "##################################### UMAP coloured by Labels #######################################\n",
        "plt.figure(figsize=(8,6))\n",
        "plt.scatter(umap_result[:,0], umap_result[:,1], c=labels, cmap='tab20', s=10)\n",
        "plt.title(\"UMAP Scatter - Colored by KMeans Clusters\")\n",
        "plt.xlabel('UMAP 1')\n",
        "plt.ylabel('UMAP 2')\n",
        "plt.colorbar(label='Cluster')\n",
        "plt.show()"
      ],
      "metadata": {
        "id": "_eN7XeHd-Rdb"
      },
      "execution_count": null,
      "outputs": []
    },
    {
      "cell_type": "markdown",
      "source": [
        "**3.3 t-SNE Plot**\n",
        "\n",
        "t-SNE (t-distributed Stochastic Neighbor Embedding) is another nonlinear dimensionality reduction technique that is particularly good at preserving local neighborhood structure, meaning points that are close in the original high-dimensional space tend to stay close in the 2D embedding. In these two scatter plots, t-SNE reduces the data to two dimensions. The first plot colors points according to KMeans cluster assignments, showing how the algorithm has grouped the data in the t-SNE space. The second plot colors the points by true labels, letting us visually check how well the clusters align with the actual classes. By comparing the two plots, we can see whether the clusters produced by KMeans match the inherent structure of the data and identify any overlaps, separations, or misclassifications."
      ],
      "metadata": {
        "id": "sb7Qn3Na-TXD"
      }
    },
    {
      "cell_type": "code",
      "source": [
        "from sklearn.manifold import TSNE\n",
        "\n",
        "tsne = TSNE(n_components=0, random_state=42)\n",
        "tsne_result = tsne.fit_transform(df)\n",
        "\n",
        "######################################## t-SNE colored by KMeans clusters ##########################################\n",
        "plt.figure(figsize=(8,6))\n",
        "plt.scatter(tsne_result[:,0], tsne_result[:,1], c=kmeans_labels, cmap='tab20', s=10)\n",
        "plt.title(\"t-SNE Scatter - Colored by KMeans Clusters\")\n",
        "plt.xlabel('t-SNE 1')\n",
        "plt.ylabel('t-SNE 2')\n",
        "plt.colorbar(label='Cluster')\n",
        "plt.show()\n",
        "\n",
        "######################################## t-SNE colored by Labels ##########################################\n",
        "plt.figure(figsize=(8,6))\n",
        "plt.scatter(tsne_result[:,0], tsne_result[:,1], c=labels, cmap='tab20', s=10)\n",
        "plt.title(\"t-SNE Scatter - Colored by KMeans Clusters\")\n",
        "plt.xlabel('t-SNE 1')\n",
        "plt.ylabel('t-SNE 2')\n",
        "plt.colorbar(label='Cluster')\n",
        "plt.show()"
      ],
      "metadata": {
        "id": "MZWQ1hlJ-VNL"
      },
      "execution_count": null,
      "outputs": []
    },
    {
      "cell_type": "markdown",
      "source": [
        "#**4. Evaluation**"
      ],
      "metadata": {
        "id": "sQUzm7Oq-Z1q"
      }
    },
    {
      "cell_type": "markdown",
      "source": [
        "**4.1 Silhouette Score, Calinski-Harabasz Index, Davies-Bouldin Index**\n",
        "\n",
        "1.Silhouette Score:\n",
        "\n",
        "* A metric that measures how well-separated and cohesive clusters are.\n",
        "\n",
        "* Value range: –1 to 1 (higher is better).\n",
        "\n",
        "* Meaning: A high score means points are well matched to their own cluster and far from other clusters. A negative score suggests points may be in the wrong cluster.\n",
        "\n",
        "2.Calinski-Harabasz Index (Variance Ratio Criterion)\n",
        "\n",
        "* A ratio of the between-cluster dispersion to within-cluster dispersion.\n",
        "\n",
        "* Value range: Positive real numbers (higher is better).\n",
        "\n",
        "* Meaning: A higher index indicates that clusters are dense, distinct, and well-separated relative to their internal variance.\n",
        "\n",
        "3.Davies-Bouldin Index\n",
        "\n",
        "* An average similarity measure of each cluster with its most similar cluster.\n",
        "\n",
        "* Value range: ≥ 0 (lower is better).\n",
        "\n",
        "* Meaning: A low index indicates clusters are compact and far apart, while a high index suggests overlapping or poorly separated clusters."
      ],
      "metadata": {
        "id": "mcdXDgho-cYb"
      }
    },
    {
      "cell_type": "code",
      "source": [
        "from sklearn.metrics import silhouette_score, calinski_harabasz_score, davies_bouldin_score\n",
        "\n",
        "######################## Kmeans ###############################################\n",
        "sil_score = silhouette_score(df, labels)\n",
        "ch_score = calinski_harabasz_score(df,labels)\n",
        "db_score = davies_bouldin_score(df, labels)\n",
        "\n",
        "print(\"Kmeans\")\n",
        "print(\"Silhouette Score:\", sil_score)\n",
        "print(\"Calinski-Harabasz Index:\", ch_score)\n",
        "print(\"Davies-Bouldin Index:\", db_score)\n",
        "print(\"\\n\")\n",
        "\n",
        "\n",
        "################################# GMM #####################################\n",
        "sil_score =\n",
        "ch_score =\n",
        "db_score =\n",
        "\n",
        "print(\"GMM\")\n",
        "print(\"Silhouette Score:\", sil_score)\n",
        "print(\"Calinski-Harabasz Index:\", ch_score)\n",
        "print(\"Davies-Bouldin Index:\", db_score)\n",
        "print(\"\\n\")\n",
        "\n",
        "###################################### Spectral ########################################\n",
        "sil_score =\n",
        "ch_score =\n",
        "db_score =\n",
        "\n",
        "print(\"Spectral\")\n",
        "print(\"Silhouette Score:\", sil_score)\n",
        "print(\"Calinski-Harabasz Index:\", ch_score)\n",
        "print(\"Davies-Bouldin Index:\", db_score)\n",
        "print(\"\\n\")"
      ],
      "metadata": {
        "id": "eEUDRwO3-j2D"
      },
      "execution_count": null,
      "outputs": []
    },
    {
      "cell_type": "markdown",
      "source": [
        "**4.2 Hungarian Matching Accuracy**\n",
        "\n",
        "Hungarian matching accuracy is a way to evaluate clustering results when the cluster labels are arbitrary. Since clustering algorithms don’t know the true class labels, the numeric cluster IDs may not match the actual class numbers. The Hungarian algorithm finds the best one-to-one mapping between predicted clusters and true labels to maximize the number of correctly matched points. This gives a meaningful measure of clustering accuracy.\n",
        "\n",
        "Steps to implement Hungarian matching accuracy:\n",
        "\n",
        "* Build a confusion matrix – Count how many samples from each predicted cluster fall into each true class.\n",
        "\n",
        "* Apply Hungarian algorithm – Use it on the confusion matrix to find the optimal label mapping that maximizes matches.\n",
        "\n",
        "* Calculate accuracy – Sum the matched counts and divide by the total number of samples."
      ],
      "metadata": {
        "id": "c_36O-In-n5K"
      }
    },
    {
      "cell_type": "code",
      "source": [
        "import numpy as np\n",
        "from scipy.optimize import linear_sum_assignment\n",
        "\n",
        "##################################3 Hungarian matching accuracy ####################################################3\n",
        "def hungarian_accuracy(y_true, y_pred):\n",
        "  ## Write the function logic here\n",
        "   return accuracy\n",
        "\n",
        "\n",
        "###################################### KMeans ################################\n",
        "acc = hungarian_accuracy(labels, kmeans_labels)\n",
        "print(\"Accuracy (Hungarian):\", acc)\n",
        "\n",
        "\n",
        "############################## GMM ################################\n",
        "acc = hungarian_accuracy(labels,)\n",
        "print(\"Accuracy (Hungarian):\", acc)\n",
        "\n",
        "############################## Spectral ###########################\n",
        "acc = hungarian_accuracy(labels,)\n",
        "print(\"Accuracy (Hungarian):\", acc)\n"
      ],
      "metadata": {
        "id": "Qjce7_yJ-qhK"
      },
      "execution_count": null,
      "outputs": []
    },
    {
      "cell_type": "markdown",
      "source": [
        "**4.3 Feature importance via PCA loadings**\n",
        "\n",
        "When you perform PCA (Principal Component Analysis), the new axes (principal components) are combinations of the original features. Each principal component captures a certain amount of variance in the dataset, but by itself it doesn’t directly tell you which features are most important.\n",
        "By examining loadings — the weights of original features in each principal component — you can figure out which features drive the biggest patterns in your data. This is critical for interpretability: it connects the reduced dimensions back to real-world meaning.\n",
        "\n",
        "Steps:\n",
        "\n",
        "* Perform PCA on the dataset to reduce dimensionality.\n",
        "\n",
        "* Extract the loadings (weights) of each feature for each principal component.\n",
        "\n",
        "* Rank the absolute loadings and select the top features for each component."
      ],
      "metadata": {
        "id": "QbDfEV8g-tY6"
      }
    },
    {
      "cell_type": "code",
      "source": [
        "import pandas as pd\n",
        "from sklearn.decomposition import PCA"
      ],
      "metadata": {
        "id": "XXLsYf1q-vTE"
      },
      "execution_count": null,
      "outputs": []
    }
  ]
}